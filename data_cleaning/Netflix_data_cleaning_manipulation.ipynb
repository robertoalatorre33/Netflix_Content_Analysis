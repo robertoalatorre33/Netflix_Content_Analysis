{
 "cells": [
  {
   "cell_type": "markdown",
   "id": "20db18ed-c8cb-4850-8d1d-283d0e526e36",
   "metadata": {},
   "source": [
    "### Importing Data and Necessary libraries"
   ]
  },
  {
   "cell_type": "code",
   "execution_count": 57,
   "id": "18c3b01e-a7c4-442e-8da5-b337f84d2833",
   "metadata": {
    "scrolled": true
   },
   "outputs": [
    {
     "data": {
      "text/html": [
       "<div>\n",
       "<style scoped>\n",
       "    .dataframe tbody tr th:only-of-type {\n",
       "        vertical-align: middle;\n",
       "    }\n",
       "\n",
       "    .dataframe tbody tr th {\n",
       "        vertical-align: top;\n",
       "    }\n",
       "\n",
       "    .dataframe thead th {\n",
       "        text-align: right;\n",
       "    }\n",
       "</style>\n",
       "<table border=\"1\" class=\"dataframe\">\n",
       "  <thead>\n",
       "    <tr style=\"text-align: right;\">\n",
       "      <th></th>\n",
       "      <th>show_id</th>\n",
       "      <th>type</th>\n",
       "      <th>title</th>\n",
       "      <th>director</th>\n",
       "      <th>cast</th>\n",
       "      <th>country</th>\n",
       "      <th>date_added</th>\n",
       "      <th>release_year</th>\n",
       "      <th>rating</th>\n",
       "      <th>duration</th>\n",
       "      <th>listed_in</th>\n",
       "      <th>description</th>\n",
       "    </tr>\n",
       "  </thead>\n",
       "  <tbody>\n",
       "    <tr>\n",
       "      <th>0</th>\n",
       "      <td>s1</td>\n",
       "      <td>Movie</td>\n",
       "      <td>Dick Johnson Is Dead</td>\n",
       "      <td>Kirsten Johnson</td>\n",
       "      <td>NaN</td>\n",
       "      <td>United States</td>\n",
       "      <td>25-Sep-21</td>\n",
       "      <td>2020</td>\n",
       "      <td>PG-13</td>\n",
       "      <td>90 min</td>\n",
       "      <td>Documentaries</td>\n",
       "      <td>As her father nears the end of his life, filmm...</td>\n",
       "    </tr>\n",
       "    <tr>\n",
       "      <th>1</th>\n",
       "      <td>s10</td>\n",
       "      <td>Movie</td>\n",
       "      <td>The Starling</td>\n",
       "      <td>Theodore Melfi</td>\n",
       "      <td>Melissa McCarthy, Chris O'Dowd, Kevin Kline, T...</td>\n",
       "      <td>United States</td>\n",
       "      <td>24-Sep-21</td>\n",
       "      <td>2021</td>\n",
       "      <td>PG-13</td>\n",
       "      <td>104 min</td>\n",
       "      <td>Comedies, Dramas</td>\n",
       "      <td>A woman adjusting to life after a loss contend...</td>\n",
       "    </tr>\n",
       "    <tr>\n",
       "      <th>2</th>\n",
       "      <td>s100</td>\n",
       "      <td>TV Show</td>\n",
       "      <td>On the Verge</td>\n",
       "      <td>NaN</td>\n",
       "      <td>Julie Delpy, Elisabeth Shue, Sarah Jones, Alex...</td>\n",
       "      <td>France, United States</td>\n",
       "      <td>7-Sep-21</td>\n",
       "      <td>2021</td>\n",
       "      <td>TV-MA</td>\n",
       "      <td>1 Season</td>\n",
       "      <td>TV Comedies, TV Dramas</td>\n",
       "      <td>Four women — a chef, a single mom, an heiress ...</td>\n",
       "    </tr>\n",
       "  </tbody>\n",
       "</table>\n",
       "</div>"
      ],
      "text/plain": [
       "  show_id     type                 title         director  \\\n",
       "0      s1    Movie  Dick Johnson Is Dead  Kirsten Johnson   \n",
       "1     s10    Movie          The Starling   Theodore Melfi   \n",
       "2    s100  TV Show          On the Verge              NaN   \n",
       "\n",
       "                                                cast                country  \\\n",
       "0                                                NaN          United States   \n",
       "1  Melissa McCarthy, Chris O'Dowd, Kevin Kline, T...          United States   \n",
       "2  Julie Delpy, Elisabeth Shue, Sarah Jones, Alex...  France, United States   \n",
       "\n",
       "  date_added  release_year rating  duration               listed_in  \\\n",
       "0  25-Sep-21          2020  PG-13    90 min           Documentaries   \n",
       "1  24-Sep-21          2021  PG-13   104 min        Comedies, Dramas   \n",
       "2   7-Sep-21          2021  TV-MA  1 Season  TV Comedies, TV Dramas   \n",
       "\n",
       "                                         description  \n",
       "0  As her father nears the end of his life, filmm...  \n",
       "1  A woman adjusting to life after a loss contend...  \n",
       "2  Four women — a chef, a single mom, an heiress ...  "
      ]
     },
     "execution_count": 57,
     "metadata": {},
     "output_type": "execute_result"
    }
   ],
   "source": [
    "import pandas as pd\n",
    "import numpy as np\n",
    "df = pd.read_csv('netflix_titles.csv')\n",
    "df.head(3)"
   ]
  },
  {
   "cell_type": "markdown",
   "id": "f3de7c23-d38c-4159-9aae-e9c2ae441853",
   "metadata": {},
   "source": [
    "### Exploring Data - Data Frame Data Type"
   ]
  },
  {
   "cell_type": "code",
   "execution_count": 51,
   "id": "6d73721f-813d-4add-93b6-cbccc566000b",
   "metadata": {},
   "outputs": [
    {
     "name": "stdout",
     "output_type": "stream",
     "text": [
      "<class 'pandas.core.frame.DataFrame'>\n",
      "RangeIndex: 8807 entries, 0 to 8806\n",
      "Data columns (total 12 columns):\n",
      " #   Column        Non-Null Count  Dtype \n",
      "---  ------        --------------  ----- \n",
      " 0   show_id       8807 non-null   object\n",
      " 1   type          8807 non-null   object\n",
      " 2   title         8807 non-null   object\n",
      " 3   director      6173 non-null   object\n",
      " 4   cast          7982 non-null   object\n",
      " 5   country       7976 non-null   object\n",
      " 6   date_added    8797 non-null   object\n",
      " 7   release_year  8807 non-null   int64 \n",
      " 8   rating        8803 non-null   object\n",
      " 9   duration      8804 non-null   object\n",
      " 10  listed_in     8807 non-null   object\n",
      " 11  description   8807 non-null   object\n",
      "dtypes: int64(1), object(11)\n",
      "memory usage: 825.8+ KB\n"
     ]
    }
   ],
   "source": [
    "df.info()"
   ]
  },
  {
   "cell_type": "markdown",
   "id": "1ef783d9-5d80-4d80-883a-ccfbd3890f4d",
   "metadata": {},
   "source": [
    "### Data Cleaning - Identifying Columns with Missing Data"
   ]
  },
  {
   "cell_type": "code",
   "execution_count": 58,
   "id": "b549b159-274c-4103-8091-57b21a1a186e",
   "metadata": {
    "scrolled": true
   },
   "outputs": [
    {
     "name": "stdout",
     "output_type": "stream",
     "text": [
      "director null rate: 29.91%\n",
      "cast null rate: 9.37%\n",
      "country null rate: 9.44%\n",
      "date_added null rate: 0.11%\n",
      "rating null rate: 0.05%\n",
      "duration null rate: 0.03%\n"
     ]
    }
   ],
   "source": [
    "# Identify which columns have missing data\n",
    "\n",
    "# Calculate the percentage of missing values for all columns in data frame \n",
    "for i in df.columns:\n",
    "    null_rate = df[i].isna().sum() / len(df) * 100 \n",
    "    if null_rate > 0 :\n",
    "        print(\"{} null rate: {}%\".format(i,round(null_rate,2)))"
   ]
  },
  {
   "cell_type": "markdown",
   "id": "d12a373b-c641-4d16-9044-32e18fec026b",
   "metadata": {},
   "source": [
    "### Data Cleaning - Replacing Null Values"
   ]
  },
  {
   "cell_type": "code",
   "execution_count": 52,
   "id": "c96e688d-02e4-4497-b041-3461d43ab167",
   "metadata": {},
   "outputs": [],
   "source": [
    "# Replace missing values in 'country', 'cast', and 'director' with 'No Data'\n",
    "\n",
    "df['country'].replace(np.nan, 'No Data', inplace=True)\n",
    "df['cast'].replace(np.nan, 'No Data', inplace=True)\n",
    "df['director'].replace(np.nan, 'No Data', inplace=True)"
   ]
  },
  {
   "cell_type": "markdown",
   "id": "bca7a475-7dd7-4416-bbb1-c9c135ee3df4",
   "metadata": {},
   "source": [
    "### Data Cleaning - Dropping Null Values"
   ]
  },
  {
   "cell_type": "code",
   "execution_count": 53,
   "id": "6388f26a-4dc6-42e6-b002-be33d6654a15",
   "metadata": {},
   "outputs": [
    {
     "name": "stdout",
     "output_type": "stream",
     "text": [
      "17 rows with null values have been dropped.\n"
     ]
    }
   ],
   "source": [
    "# Count the number of rows including null values\n",
    "original_row_count = len(df)\n",
    "\n",
    "# Drop rows with any null values from the DataFrame\n",
    "df.dropna(inplace=True)\n",
    "\n",
    "# Count Rows with null values that have been dropped\n",
    "rows_dropped = original_row_count - len(df)\n",
    "print(f\"{rows_dropped} rows with null values have been dropped.\")"
   ]
  },
  {
   "cell_type": "markdown",
   "id": "853f8aa9-29fb-4825-b6c6-3feb40fb5ebe",
   "metadata": {},
   "source": [
    "### Data Cleaning - Dropping Duplicates Values"
   ]
  },
  {
   "cell_type": "code",
   "execution_count": 49,
   "id": "d2685c96-a678-4891-b972-bb7c1c5175af",
   "metadata": {},
   "outputs": [
    {
     "name": "stdout",
     "output_type": "stream",
     "text": [
      "0 duplicate rows have been dropped.\n"
     ]
    }
   ],
   "source": [
    "# Before dropping duplicates\n",
    "original_row_count = len(df)\n",
    "\n",
    "# Drop duplicate rows from the DataFrame\n",
    "df.drop_duplicates(inplace=True)\n",
    "\n",
    "# After: Duplicate rows have been dropped\n",
    "duplicates_dropped = original_row_count - len(df)\n",
    "print(f\"{duplicates_dropped} duplicate rows have been dropped.\")\n"
   ]
  },
  {
   "cell_type": "markdown",
   "id": "52acbe6a-34fa-4178-b70d-db9afa1f9bb8",
   "metadata": {},
   "source": [
    "### Data Cleaning - Double-Checking Null Values"
   ]
  },
  {
   "cell_type": "code",
   "execution_count": 133,
   "id": "0937829f-a32b-41b0-82b6-45456f95459f",
   "metadata": {
    "scrolled": true
   },
   "outputs": [
    {
     "data": {
      "text/plain": [
       "show_id         0\n",
       "type            0\n",
       "title           0\n",
       "director        0\n",
       "cast            0\n",
       "country         0\n",
       "date_added      0\n",
       "release_year    0\n",
       "rating          0\n",
       "duration        0\n",
       "listed_in       0\n",
       "description     0\n",
       "dtype: int64"
      ]
     },
     "execution_count": 133,
     "metadata": {},
     "output_type": "execute_result"
    }
   ],
   "source": [
    "# Check for missing values in each column of the DataFrame\n",
    "\n",
    "df.isnull().sum()"
   ]
  },
  {
   "cell_type": "markdown",
   "id": "7044a792-457e-4a1e-ae3b-858a323ea78b",
   "metadata": {},
   "source": [
    "### Data Cleaning - Converting Date Data Types"
   ]
  },
  {
   "cell_type": "code",
   "execution_count": 24,
   "id": "60afe2e9-ea9c-47e0-82a8-0fee08b11e51",
   "metadata": {},
   "outputs": [],
   "source": [
    "# Converting Date Data Types and Adding Month-Year Columns\n",
    "\n",
    "# Convert the 'date_added' column to datetime data type\n",
    "df[\"date_added\"] = pd.to_datetime(df['date_added'])\n"
   ]
  },
  {
   "cell_type": "markdown",
   "id": "1f0d8d84-347d-4576-8d31-0ba6fe03a2f8",
   "metadata": {},
   "source": [
    "### Data Cleaning - Adding Month-Year Columns"
   ]
  },
  {
   "cell_type": "code",
   "execution_count": 25,
   "id": "ae2b6789-5cac-43e6-92b5-a58c4c6f4d29",
   "metadata": {},
   "outputs": [
    {
     "data": {
      "text/html": [
       "<div>\n",
       "<style scoped>\n",
       "    .dataframe tbody tr th:only-of-type {\n",
       "        vertical-align: middle;\n",
       "    }\n",
       "\n",
       "    .dataframe tbody tr th {\n",
       "        vertical-align: top;\n",
       "    }\n",
       "\n",
       "    .dataframe thead th {\n",
       "        text-align: right;\n",
       "    }\n",
       "</style>\n",
       "<table border=\"1\" class=\"dataframe\">\n",
       "  <thead>\n",
       "    <tr style=\"text-align: right;\">\n",
       "      <th></th>\n",
       "      <th>show_id</th>\n",
       "      <th>type</th>\n",
       "      <th>title</th>\n",
       "      <th>director</th>\n",
       "      <th>cast</th>\n",
       "      <th>country</th>\n",
       "      <th>date_added</th>\n",
       "      <th>release_year</th>\n",
       "      <th>rating</th>\n",
       "      <th>duration</th>\n",
       "      <th>listed_in</th>\n",
       "      <th>description</th>\n",
       "      <th>month_added</th>\n",
       "      <th>month_name_added</th>\n",
       "      <th>year_added</th>\n",
       "    </tr>\n",
       "  </thead>\n",
       "  <tbody>\n",
       "    <tr>\n",
       "      <th>0</th>\n",
       "      <td>s1</td>\n",
       "      <td>Movie</td>\n",
       "      <td>Dick Johnson Is Dead</td>\n",
       "      <td>Kirsten Johnson</td>\n",
       "      <td>No Data</td>\n",
       "      <td>United States</td>\n",
       "      <td>2021-09-25</td>\n",
       "      <td>2020</td>\n",
       "      <td>PG-13</td>\n",
       "      <td>90 min</td>\n",
       "      <td>Documentaries</td>\n",
       "      <td>As her father nears the end of his life, filmm...</td>\n",
       "      <td>9</td>\n",
       "      <td>September</td>\n",
       "      <td>2021</td>\n",
       "    </tr>\n",
       "  </tbody>\n",
       "</table>\n",
       "</div>"
      ],
      "text/plain": [
       "  show_id   type                 title         director     cast  \\\n",
       "0      s1  Movie  Dick Johnson Is Dead  Kirsten Johnson  No Data   \n",
       "\n",
       "         country date_added  release_year rating duration      listed_in  \\\n",
       "0  United States 2021-09-25          2020  PG-13   90 min  Documentaries   \n",
       "\n",
       "                                         description  month_added  \\\n",
       "0  As her father nears the end of his life, filmm...            9   \n",
       "\n",
       "  month_name_added  year_added  \n",
       "0        September        2021  "
      ]
     },
     "execution_count": 25,
     "metadata": {},
     "output_type": "execute_result"
    }
   ],
   "source": [
    "# Extract the month and create a new column 'month_added'\n",
    "df['month_added']=df['date_added'].dt.month\n",
    "\n",
    "# Extract the month name and create a new column 'month_name_added'\n",
    "df['month_name_added']=df['date_added'].dt.month_name()\n",
    "\n",
    "# Extract the year and create a new column 'year_added'\n",
    "df['year_added'] = df['date_added'].dt.year\n",
    "\n",
    "df.head(1)"
   ]
  },
  {
   "cell_type": "code",
   "execution_count": 113,
   "id": "97d75678-044f-490d-885e-f53695a1567c",
   "metadata": {},
   "outputs": [],
   "source": [
    "#df.set_index('show_id', inplace = True)"
   ]
  },
  {
   "cell_type": "markdown",
   "id": "6b2868ce-f454-495d-ba61-970981184407",
   "metadata": {},
   "source": [
    "### Data Cleaning - Adding Primary Country Column"
   ]
  },
  {
   "cell_type": "code",
   "execution_count": 176,
   "id": "4f19a560-b006-4ee7-bcfe-9822bca30d19",
   "metadata": {},
   "outputs": [
    {
     "data": {
      "text/html": [
       "<div>\n",
       "<style scoped>\n",
       "    .dataframe tbody tr th:only-of-type {\n",
       "        vertical-align: middle;\n",
       "    }\n",
       "\n",
       "    .dataframe tbody tr th {\n",
       "        vertical-align: top;\n",
       "    }\n",
       "\n",
       "    .dataframe thead th {\n",
       "        text-align: right;\n",
       "    }\n",
       "</style>\n",
       "<table border=\"1\" class=\"dataframe\">\n",
       "  <thead>\n",
       "    <tr style=\"text-align: right;\">\n",
       "      <th></th>\n",
       "      <th>show_id</th>\n",
       "      <th>type</th>\n",
       "      <th>title</th>\n",
       "      <th>director</th>\n",
       "      <th>cast</th>\n",
       "      <th>country</th>\n",
       "      <th>date_added</th>\n",
       "      <th>release_year</th>\n",
       "      <th>rating</th>\n",
       "      <th>duration</th>\n",
       "      <th>listed_in</th>\n",
       "      <th>description</th>\n",
       "      <th>month_added</th>\n",
       "      <th>month_name_added</th>\n",
       "      <th>year_added</th>\n",
       "      <th>target_ages</th>\n",
       "      <th>first_country</th>\n",
       "    </tr>\n",
       "  </thead>\n",
       "  <tbody>\n",
       "    <tr>\n",
       "      <th>0</th>\n",
       "      <td>s1</td>\n",
       "      <td>Movie</td>\n",
       "      <td>Dick Johnson Is Dead</td>\n",
       "      <td>Kirsten Johnson</td>\n",
       "      <td>NaN</td>\n",
       "      <td>United States</td>\n",
       "      <td>2021-09-25</td>\n",
       "      <td>2020</td>\n",
       "      <td>PG-13</td>\n",
       "      <td>90 min</td>\n",
       "      <td>Documentaries</td>\n",
       "      <td>As her father nears the end of his life, filmm...</td>\n",
       "      <td>9.0</td>\n",
       "      <td>September</td>\n",
       "      <td>2021.0</td>\n",
       "      <td>Teens</td>\n",
       "      <td>United States</td>\n",
       "    </tr>\n",
       "  </tbody>\n",
       "</table>\n",
       "</div>"
      ],
      "text/plain": [
       "  show_id   type                 title         director cast        country  \\\n",
       "0      s1  Movie  Dick Johnson Is Dead  Kirsten Johnson  NaN  United States   \n",
       "\n",
       "  date_added  release_year rating duration      listed_in  \\\n",
       "0 2021-09-25          2020  PG-13   90 min  Documentaries   \n",
       "\n",
       "                                         description  month_added  \\\n",
       "0  As her father nears the end of his life, filmm...          9.0   \n",
       "\n",
       "  month_name_added  year_added target_ages  first_country  \n",
       "0        September      2021.0       Teens  United States  "
      ]
     },
     "execution_count": 176,
     "metadata": {},
     "output_type": "execute_result"
    }
   ],
   "source": [
    "# The 'country' column currently contains multiple countries separated by commas.\n",
    "\n",
    "# Split the 'country' column using the ',' delimiter and create a new DataFrame\n",
    "split_df = df['country'].str.split(',', expand=True)\n",
    "\n",
    "# Assign the first element to a new column 'first_country'\n",
    "df['first_country'] = split_df[0]\n",
    "\n",
    "# Drop the original 'country' column if needed\n",
    "df.drop(columns=['country'], inplace=True)\n",
    "\n",
    "df.head(1)"
   ]
  },
  {
   "cell_type": "markdown",
   "id": "6c9b846e-ca50-4361-9634-0f80f50ecb1b",
   "metadata": {},
   "source": [
    "### Data Cleaning - Renaming Countries"
   ]
  },
  {
   "cell_type": "code",
   "execution_count": 177,
   "id": "db8ff487-cd93-4a2f-89ae-07b2573a4f24",
   "metadata": {},
   "outputs": [],
   "source": [
    "#Renaming top countries that have long names\n",
    "df['first_country'].replace('United States', 'USA', inplace=True)\n",
    "df['first_country'].replace('United Kingdom', 'UK',inplace=True)\n",
    "df['first_country'].replace('South Korea', 'S. Korea',inplace=True)"
   ]
  },
  {
   "cell_type": "markdown",
   "id": "22e6e173-d594-4c10-a0d9-ec7e58c50e8a",
   "metadata": {},
   "source": [
    "### Data Manipulation - Converting TV Show Ratings to Target Age Groups"
   ]
  },
  {
   "cell_type": "code",
   "execution_count": 175,
   "id": "ae19629c-efac-41dc-9f6e-05568f59a817",
   "metadata": {},
   "outputs": [
    {
     "data": {
      "text/html": [
       "<div>\n",
       "<style scoped>\n",
       "    .dataframe tbody tr th:only-of-type {\n",
       "        vertical-align: middle;\n",
       "    }\n",
       "\n",
       "    .dataframe tbody tr th {\n",
       "        vertical-align: top;\n",
       "    }\n",
       "\n",
       "    .dataframe thead th {\n",
       "        text-align: right;\n",
       "    }\n",
       "</style>\n",
       "<table border=\"1\" class=\"dataframe\">\n",
       "  <thead>\n",
       "    <tr style=\"text-align: right;\">\n",
       "      <th></th>\n",
       "      <th>show_id</th>\n",
       "      <th>type</th>\n",
       "      <th>title</th>\n",
       "      <th>director</th>\n",
       "      <th>cast</th>\n",
       "      <th>country</th>\n",
       "      <th>date_added</th>\n",
       "      <th>release_year</th>\n",
       "      <th>rating</th>\n",
       "      <th>duration</th>\n",
       "      <th>listed_in</th>\n",
       "      <th>description</th>\n",
       "      <th>month_added</th>\n",
       "      <th>month_name_added</th>\n",
       "      <th>year_added</th>\n",
       "      <th>target_ages</th>\n",
       "    </tr>\n",
       "  </thead>\n",
       "  <tbody>\n",
       "    <tr>\n",
       "      <th>0</th>\n",
       "      <td>s1</td>\n",
       "      <td>Movie</td>\n",
       "      <td>Dick Johnson Is Dead</td>\n",
       "      <td>Kirsten Johnson</td>\n",
       "      <td>NaN</td>\n",
       "      <td>United States</td>\n",
       "      <td>2021-09-25</td>\n",
       "      <td>2020</td>\n",
       "      <td>PG-13</td>\n",
       "      <td>90 min</td>\n",
       "      <td>Documentaries</td>\n",
       "      <td>As her father nears the end of his life, filmm...</td>\n",
       "      <td>9.0</td>\n",
       "      <td>September</td>\n",
       "      <td>2021.0</td>\n",
       "      <td>Teens</td>\n",
       "    </tr>\n",
       "  </tbody>\n",
       "</table>\n",
       "</div>"
      ],
      "text/plain": [
       "  show_id   type                 title         director cast        country  \\\n",
       "0      s1  Movie  Dick Johnson Is Dead  Kirsten Johnson  NaN  United States   \n",
       "\n",
       "  date_added  release_year rating duration      listed_in  \\\n",
       "0 2021-09-25          2020  PG-13   90 min  Documentaries   \n",
       "\n",
       "                                         description  month_added  \\\n",
       "0  As her father nears the end of his life, filmm...          9.0   \n",
       "\n",
       "  month_name_added  year_added target_ages  \n",
       "0        September      2021.0       Teens  "
      ]
     },
     "execution_count": 175,
     "metadata": {},
     "output_type": "execute_result"
    }
   ],
   "source": [
    "# Dictionary mapping TV show ratings to target age groups\n",
    "ratings_ages = {\n",
    "    'TV-PG': 'Older Kids',\n",
    "    'TV-MA': 'Adults',\n",
    "    'TV-Y7-FV': 'Older Kids',\n",
    "    'TV-Y7': 'Older Kids',\n",
    "    'TV-14': 'Teens',\n",
    "    'R': 'Adults',\n",
    "    'TV-Y': 'Kids',\n",
    "    'NR': 'Adults',\n",
    "    'PG-13': 'Teens',\n",
    "    'TV-G': 'Kids',\n",
    "    'PG': 'Older Kids',\n",
    "    'G': 'Kids',\n",
    "    'UR': 'Adults',\n",
    "    'NC-17': 'Adults'\n",
    "}\n",
    "\n",
    "# Creating the new 'target_ages' column using the mapping from 'ratings_ages'\n",
    "df['target_ages'] = df['rating'].replace(ratings_ages)\n",
    "\n",
    "df.head(1)"
   ]
  },
  {
   "cell_type": "markdown",
   "id": "a3937f3f-e348-46ea-9d42-0bd669d99a9d",
   "metadata": {},
   "source": [
    "### Data Manipulation - Extracting Duration of Movies in Minutes"
   ]
  },
  {
   "cell_type": "code",
   "execution_count": 15,
   "id": "0c7dbc68-088f-4904-8912-278a9ecdf0de",
   "metadata": {
    "scrolled": true
   },
   "outputs": [
    {
     "data": {
      "text/html": [
       "<div>\n",
       "<style scoped>\n",
       "    .dataframe tbody tr th:only-of-type {\n",
       "        vertical-align: middle;\n",
       "    }\n",
       "\n",
       "    .dataframe tbody tr th {\n",
       "        vertical-align: top;\n",
       "    }\n",
       "\n",
       "    .dataframe thead th {\n",
       "        text-align: right;\n",
       "    }\n",
       "</style>\n",
       "<table border=\"1\" class=\"dataframe\">\n",
       "  <thead>\n",
       "    <tr style=\"text-align: right;\">\n",
       "      <th></th>\n",
       "      <th>show_id</th>\n",
       "      <th>type</th>\n",
       "      <th>title</th>\n",
       "      <th>director</th>\n",
       "      <th>cast</th>\n",
       "      <th>country</th>\n",
       "      <th>date_added</th>\n",
       "      <th>release_year</th>\n",
       "      <th>rating</th>\n",
       "      <th>duration</th>\n",
       "      <th>listed_in</th>\n",
       "      <th>description</th>\n",
       "      <th>month_added</th>\n",
       "      <th>month_name_added</th>\n",
       "      <th>year_added</th>\n",
       "      <th>movie_duration</th>\n",
       "    </tr>\n",
       "  </thead>\n",
       "  <tbody>\n",
       "    <tr>\n",
       "      <th>0</th>\n",
       "      <td>s1</td>\n",
       "      <td>Movie</td>\n",
       "      <td>Dick Johnson Is Dead</td>\n",
       "      <td>Kirsten Johnson</td>\n",
       "      <td>No Data</td>\n",
       "      <td>United States</td>\n",
       "      <td>2021-09-25</td>\n",
       "      <td>2020</td>\n",
       "      <td>PG-13</td>\n",
       "      <td>90 min</td>\n",
       "      <td>Documentaries</td>\n",
       "      <td>As her father nears the end of his life, filmm...</td>\n",
       "      <td>9</td>\n",
       "      <td>September</td>\n",
       "      <td>2021</td>\n",
       "      <td>90.0</td>\n",
       "    </tr>\n",
       "  </tbody>\n",
       "</table>\n",
       "</div>"
      ],
      "text/plain": [
       "  show_id   type                 title         director     cast  \\\n",
       "0      s1  Movie  Dick Johnson Is Dead  Kirsten Johnson  No Data   \n",
       "\n",
       "         country date_added  release_year rating duration      listed_in  \\\n",
       "0  United States 2021-09-25          2020  PG-13   90 min  Documentaries   \n",
       "\n",
       "                                         description  month_added  \\\n",
       "0  As her father nears the end of his life, filmm...            9   \n",
       "\n",
       "  month_name_added  year_added  movie_duration  \n",
       "0        September        2021            90.0  "
      ]
     },
     "execution_count": 15,
     "metadata": {},
     "output_type": "execute_result"
    }
   ],
   "source": [
    "# Function to extract duration in minutes from the 'duration'\n",
    "def extract_duration(row):\n",
    "    if pd.notna(row['duration']) and 'min' in row['duration']:\n",
    "        duration = row['duration'].split(' min')[0]\n",
    "        return int(duration)\n",
    "    return None\n",
    "\n",
    "# Apply the function to create the 'movie_duration' column\n",
    "df['movie_duration'] = df.apply(extract_duration, axis=1)\n",
    "\n",
    "df.head(1)"
   ]
  },
  {
   "cell_type": "markdown",
   "id": "4c652088-241e-4de2-85fd-0dfef58c1ac6",
   "metadata": {},
   "source": [
    "### Data Manipulation - Extracting Number of Seasons per TV Show"
   ]
  },
  {
   "cell_type": "code",
   "execution_count": 16,
   "id": "b060aa3d-629d-4ea7-8d70-98af21935327",
   "metadata": {},
   "outputs": [
    {
     "data": {
      "text/html": [
       "<div>\n",
       "<style scoped>\n",
       "    .dataframe tbody tr th:only-of-type {\n",
       "        vertical-align: middle;\n",
       "    }\n",
       "\n",
       "    .dataframe tbody tr th {\n",
       "        vertical-align: top;\n",
       "    }\n",
       "\n",
       "    .dataframe thead th {\n",
       "        text-align: right;\n",
       "    }\n",
       "</style>\n",
       "<table border=\"1\" class=\"dataframe\">\n",
       "  <thead>\n",
       "    <tr style=\"text-align: right;\">\n",
       "      <th></th>\n",
       "      <th>show_id</th>\n",
       "      <th>type</th>\n",
       "      <th>title</th>\n",
       "      <th>director</th>\n",
       "      <th>cast</th>\n",
       "      <th>country</th>\n",
       "      <th>date_added</th>\n",
       "      <th>release_year</th>\n",
       "      <th>rating</th>\n",
       "      <th>duration</th>\n",
       "      <th>listed_in</th>\n",
       "      <th>description</th>\n",
       "      <th>month_added</th>\n",
       "      <th>month_name_added</th>\n",
       "      <th>year_added</th>\n",
       "      <th>movie_duration</th>\n",
       "      <th>tv_show_seasons</th>\n",
       "    </tr>\n",
       "  </thead>\n",
       "  <tbody>\n",
       "    <tr>\n",
       "      <th>0</th>\n",
       "      <td>s1</td>\n",
       "      <td>Movie</td>\n",
       "      <td>Dick Johnson Is Dead</td>\n",
       "      <td>Kirsten Johnson</td>\n",
       "      <td>No Data</td>\n",
       "      <td>United States</td>\n",
       "      <td>2021-09-25</td>\n",
       "      <td>2020</td>\n",
       "      <td>PG-13</td>\n",
       "      <td>90 min</td>\n",
       "      <td>Documentaries</td>\n",
       "      <td>As her father nears the end of his life, filmm...</td>\n",
       "      <td>9</td>\n",
       "      <td>September</td>\n",
       "      <td>2021</td>\n",
       "      <td>90.0</td>\n",
       "      <td>NaN</td>\n",
       "    </tr>\n",
       "  </tbody>\n",
       "</table>\n",
       "</div>"
      ],
      "text/plain": [
       "  show_id   type                 title         director     cast  \\\n",
       "0      s1  Movie  Dick Johnson Is Dead  Kirsten Johnson  No Data   \n",
       "\n",
       "         country date_added  release_year rating duration      listed_in  \\\n",
       "0  United States 2021-09-25          2020  PG-13   90 min  Documentaries   \n",
       "\n",
       "                                         description  month_added  \\\n",
       "0  As her father nears the end of his life, filmm...            9   \n",
       "\n",
       "  month_name_added  year_added  movie_duration  tv_show_seasons  \n",
       "0        September        2021            90.0              NaN  "
      ]
     },
     "execution_count": 16,
     "metadata": {},
     "output_type": "execute_result"
    }
   ],
   "source": [
    "# Function to extract the number of seasons from the 'duration'\n",
    "def extract_duration(row):\n",
    "    if pd.notna(row['duration']) and 'Season' in row['duration']:\n",
    "        duration = row['duration'].split(' Season')[0]\n",
    "        return int(duration)\n",
    "    return None\n",
    "\n",
    "# Apply the function to create the 'tv_show_seasons' column\n",
    "df['tv_show_seasons'] = df.apply(extract_duration, axis=1)\n",
    "\n",
    "df.head(1)"
   ]
  },
  {
   "cell_type": "markdown",
   "id": "ea9f796a-fd97-4c7b-a14a-7816423e93cb",
   "metadata": {},
   "source": [
    "### Exporting cleaned data file ready for Analysis in Tableau"
   ]
  },
  {
   "cell_type": "code",
   "execution_count": 122,
   "id": "bc8e517b-e303-49f4-978b-2d2e1af9287b",
   "metadata": {},
   "outputs": [],
   "source": [
    "df.to_csv('netflix_titles_clean.csv', index=True)"
   ]
  }
 ],
 "metadata": {
  "kernelspec": {
   "display_name": "Python 3 (ipykernel)",
   "language": "python",
   "name": "python3"
  },
  "language_info": {
   "codemirror_mode": {
    "name": "ipython",
    "version": 3
   },
   "file_extension": ".py",
   "mimetype": "text/x-python",
   "name": "python",
   "nbconvert_exporter": "python",
   "pygments_lexer": "ipython3",
   "version": "3.10.7"
  }
 },
 "nbformat": 4,
 "nbformat_minor": 5
}
